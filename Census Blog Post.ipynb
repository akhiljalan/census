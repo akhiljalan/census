{
 "cells": [
  {
   "cell_type": "markdown",
   "metadata": {
    "deletable": true,
    "editable": true
   },
   "source": [
    "# Fun with Census Data \n",
    "\n",
    "I wanted to practice using the NumPy and Pandas libraries to do some basic data analysis and visualizations. So, I got some CSV files from the 2010 US Census (available [here](https://www.census.gov/2010census/data/)). Here are some things I found interesting. "
   ]
  },
  {
   "cell_type": "code",
   "execution_count": 1,
   "metadata": {
    "collapsed": true,
    "deletable": true,
    "editable": true
   },
   "outputs": [],
   "source": [
    "import pandas as pd\n",
    "import numpy as np\n",
    "import math\n",
    "\n",
    "'''The population of each state at each decade, as well as the change from previous decade. \n",
    "X_POPULATION and X_CHANGE are the column names (X referring to a year ending with 10). \n",
    "There are these data for United States, Northeast, Midwest, South, West, \n",
    "Puerto Rico, and each individual state'''\n",
    "pop_change_df = pd.read_csv('data/pop_change.csv', index_col=0, header=0, thousands=',')\n",
    "pop_change_df.apply(pd.to_numeric)\n",
    "\n",
    "'''The population density of each state. X_POPULATION, X_DENSITY, X_RANK are the keys'''\n",
    "pop_density_df = pd.read_csv('data/pop_density.csv', index_col=0, header=0, skiprows=3, thousands=',')\n",
    "pop_density_df.apply(pd.to_numeric)\n",
    "\n",
    "\n",
    "'''The apportionment of representatives to the House by state. Keys include X_REPS,\n",
    "X_PEOPLE_PER_REP, X_'''\n",
    "apportionment_df = pd.read_csv('data/apportionment.csv', index_col=0, header=0, skiprows=1)\n",
    "apportionment_df.apply(pd.to_numeric)\n",
    "fix_nan_short = lambda num_or_nan: 0 if math.isnan(num_or_nan) else num_or_nan\n",
    "apportionment_df = apportionment_df.applymap(fix_nan_short)\n",
    "\n",
    "'''For some reason, 1920 people per rep is a column of zeroes. We can fix that here by just calculating it.'''\n",
    "apportionment_df['1920_PEOPLE_PER_REP'] = pop_change_df['1920_POPULATION']/apportionment_df['1920_REPS']\n",
    "fix_inf = lambda num_or_inf: math.nan if math.isinf(num_or_inf) else num_or_inf #this definitely works \n",
    "apportionment_df['1920_PEOPLE_PER_REP'] = apportionment_df['1920_PEOPLE_PER_REP'].apply(fix_inf)\n",
    "\n",
    "'''The dataframes, but only with states.'''\n",
    "states_pop_change = pop_change_df.iloc[range(5, len(pop_change_df))]\n",
    "states_pop_density = pop_density_df.iloc[range(1, len(pop_density_df))]\n",
    "\n",
    "'''Takes in a function which itself reads an integer value of a valid year ending in 10. \n",
    "Valid years are 1910, 1920, ..., 2010. Returns a dictionary whose keys are years and \n",
    "values are func(year) for those years all of these years.'''\n",
    "def values_for_all_years(func): \n",
    "    return_dict = {}\n",
    "    for i in range(11): \n",
    "        return_dict[1910 + (10 * i)] = func(1910 + (10 * i))\n",
    "    return return_dict"
   ]
  },
  {
   "cell_type": "markdown",
   "metadata": {
    "collapsed": true,
    "deletable": true,
    "editable": true
   },
   "source": []
  }
 ],
 "metadata": {
  "kernelspec": {
   "display_name": "Python [conda root]",
   "language": "python",
   "name": "conda-root-py"
  },
  "language_info": {
   "codemirror_mode": {
    "name": "ipython",
    "version": 3
   },
   "file_extension": ".py",
   "mimetype": "text/x-python",
   "name": "python",
   "nbconvert_exporter": "python",
   "pygments_lexer": "ipython3",
   "version": "3.6.0"
  }
 },
 "nbformat": 4,
 "nbformat_minor": 2
}
