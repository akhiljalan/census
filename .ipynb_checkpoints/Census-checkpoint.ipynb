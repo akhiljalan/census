{
 "cells": [
  {
   "cell_type": "markdown",
   "metadata": {
    "deletable": true,
    "editable": true
   },
   "source": [
    "Some questions we might ask are: \n",
    "1. What were the fastest and slowest growing population centers in the US? \n",
    "2. How does population density one census affect the rate of population growth the next decade, if at all? \n",
    "3. To what extent do regions mirror one another in population growth, as opposed to diverging from one another? \n",
    "\n",
    "Pop_change notes: \n",
    "CHANGE EXPRESSED AS PERCENTAGE (0-100).\n",
    "\n",
    "Pop_density notes: \n",
    "DENSITY EXPRESSED AS PEOPLE PER SQUARE MILE.\n",
    "DENSITY RANKING EXPRESSED IN ORDER OF MOST DENSE (1) TO LEAST DENSE (52).\n",
    "\n",
    "Interesting observations: \n",
    "1. DC was the most dense from every census through 1910"
   ]
  },
  {
   "cell_type": "code",
   "execution_count": 73,
   "metadata": {
    "collapsed": false,
    "deletable": true,
    "editable": true
   },
   "outputs": [
    {
     "data": {
      "text/plain": [
       "STATE_OR_REGION\n",
       "Alabama                  9.8\n",
       "Alaska                 -14.5\n",
       "Arizona                 63.5\n",
       "Arkansas                11.3\n",
       "California              44.1\n",
       "Colorado                17.6\n",
       "Connecticut             23.9\n",
       "Delaware                10.2\n",
       "District of Columbia    32.2\n",
       "Florida                 28.7\n",
       "Georgia                 11.0\n",
       "Hawaii                  33.4\n",
       "Idaho                   32.6\n",
       "Illinois                15.0\n",
       "Indiana                  8.5\n",
       "Iowa                     8.1\n",
       "Kansas                   4.6\n",
       "Kentucky                 5.5\n",
       "Louisiana                8.6\n",
       "Maine                    3.5\n",
       "Maryland                11.9\n",
       "Massachusetts           14.4\n",
       "Michigan                30.5\n",
       "Minnesota               15.0\n",
       "Mississippi             -0.4\n",
       "Missouri                 3.4\n",
       "Montana                 46.0\n",
       "Nebraska                 8.7\n",
       "Nevada                  -5.5\n",
       "New Hampshire            2.9\n",
       "New Jersey              24.4\n",
       "New Mexico              10.1\n",
       "New York                14.0\n",
       "North Carolina          16.0\n",
       "North Dakota            12.1\n",
       "Ohio                    20.8\n",
       "Oklahoma                22.4\n",
       "Oregon                  16.4\n",
       "Pennsylvania            13.8\n",
       "Rhode Island            11.4\n",
       "South Carolina          11.1\n",
       "South Dakota             9.0\n",
       "Tennessee                7.0\n",
       "Texas                   19.7\n",
       "Utah                    20.4\n",
       "Vermont                 -1.0\n",
       "Virginia                12.0\n",
       "Washington              18.8\n",
       "West Virginia           19.9\n",
       "Wisconsin               12.8\n",
       "Wyoming                 33.2\n",
       "Puerto Rico             16.3\n",
       "Name: 1920_CHANGE, dtype: float64"
      ]
     },
     "execution_count": 73,
     "metadata": {},
     "output_type": "execute_result"
    }
   ],
   "source": [
    "import pandas as pd\n",
    "import numpy as np\n",
    "\n",
    "'''The population of each state at each decade, as well as the change from previous decade. \n",
    "X_POPULATION and X_CHANGE are the column names. There are these data for \n",
    "United States, Northeast, Midwest, South, West, Puerto Rico, and each individual state'''\n",
    "pop_change_df = pd.read_csv('data/pop_change.csv', index_col=0, header=0, thousands=',')\n",
    "pop_change_df.apply(pd.to_numeric)\n",
    "'''The population density of each state. X_POPULATION, X_DENSITY, X_RANK are the keys'''\n",
    "pop_density_df = pd.read_csv('data/pop_density.csv', index_col=0, header=0, skiprows=3, thousands=',')\n",
    "pop_density_df.apply(pd.to_numeric)\n",
    "'''The dataframes, but only with states.'''\n",
    "states_pop_change = pop_change_df.iloc[range(5, len(pop_change_df))]\n",
    "states_pop_density = pop_density_df.iloc[range(1, len(pop_density_df))]\n"
   ]
  },
  {
   "cell_type": "code",
   "execution_count": 51,
   "metadata": {
    "collapsed": false,
    "deletable": true,
    "editable": true
   },
   "outputs": [
    {
     "name": "stdout",
     "output_type": "stream",
     "text": [
      "STATE_OR_REGION\n",
      "Nevada     35.1\n",
      "Arizona    24.6\n",
      "Utah       23.8\n",
      "Idaho      21.1\n",
      "Texas      20.6\n",
      "Name: 2010_CHANGE, dtype: float64\n",
      "STATE_OR_REGION\n",
      "Puerto Rico    -2.2\n",
      "Michigan       -0.6\n",
      "Rhode Island    0.4\n",
      "Louisiana       1.4\n",
      "Ohio            1.6\n",
      "Name: 2010_CHANGE, dtype: float64\n"
     ]
    }
   ],
   "source": [
    "#Answering 1: What were the fastest and slowest growing population centers in the US? \n",
    "\n",
    "'''Returns the NUMBER slowest or fastest growing states by population in YEAR.\n",
    "TOP is a Boolean. If TOP, we want the NUMBER fastest growing states. If not TOP, \n",
    "we want the NUMBER slowest growing states'''\n",
    "def n_max(year, number, top): \n",
    "    key = str(year) + '_CHANGE'\n",
    "    if top: \n",
    "        return states_pop_change[key].nlargest(n=number)\n",
    "    else: \n",
    "        return states_pop_change[key].nsmallest(n=number)\n",
    "\n",
    "five_fastest_growing_2010 = n_max(2010, 5, True)\n",
    "five_slowest_growing_2010 = n_max(2010, 5, False)"
   ]
  },
  {
   "cell_type": "markdown",
   "metadata": {},
   "source": [
    "2. Does population density affect the rate of population growth in a state? That is, if a state \n",
    "\n",
    "Both directions could be plausible. People might flock to a state if it is growing quickly and is the place to be. Or, they might choose to go to less populated states, which might have cheaper and more abundant land, and more opportunities. "
   ]
  },
  {
   "cell_type": "code",
   "execution_count": 77,
   "metadata": {
    "collapsed": false
   },
   "outputs": [
    {
     "name": "stdout",
     "output_type": "stream",
     "text": [
      "[0.16759764250300993, -0.033015074352785424, 0.42880048186971909, 0.028952055112537411, -0.18073037791760463, -0.15831595591159223, -0.34969210174663073, -0.19039483919421596, -0.28296925289714092, -0.16320851336858472]\n"
     ]
    }
   ],
   "source": [
    "#Answering 2: How does population density one census affect the rate of population growth the next decade, if at all?\n",
    "\n",
    "def corr_density_growth(initial_year): \n",
    "    density_key = str(initial_year) + '_DENSITY'\n",
    "    growth_key = str(initial_year + 10) + '_CHANGE'\n",
    "    return pop_density_df[density_key].corr(pop_change_df[growth_key], method='pearson')\n",
    "\n",
    "correlations = [corr_density_growth(1910 + (x * 10)) for x in range(10)]\n",
    "print(correlations)"
   ]
  },
  {
   "cell_type": "markdown",
   "metadata": {},
   "source": [
    "It seems that population density of a state in one census is negatively correlated with its population growth in the next decade. However, these correlations are fairly weak. Interestingly, the decade 1930-1940 is a strong exception - in this decade, the two were positively correlated. \n",
    "\n",
    "3. To what extent do regions mirror one another in population growth, as opposed to diverging from one another?"
   ]
  },
  {
   "cell_type": "code",
   "execution_count": null,
   "metadata": {
    "collapsed": true
   },
   "outputs": [],
   "source": []
  }
 ],
 "metadata": {
  "kernelspec": {
   "display_name": "Python [conda root]",
   "language": "python",
   "name": "conda-root-py"
  },
  "language_info": {
   "codemirror_mode": {
    "name": "ipython",
    "version": 3
   },
   "file_extension": ".py",
   "mimetype": "text/x-python",
   "name": "python",
   "nbconvert_exporter": "python",
   "pygments_lexer": "ipython3",
   "version": "3.6.0"
  }
 },
 "nbformat": 4,
 "nbformat_minor": 2
}
