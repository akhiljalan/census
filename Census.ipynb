{
 "cells": [
  {
   "cell_type": "markdown",
   "metadata": {
    "deletable": true,
    "editable": true
   },
   "source": [
    "Some questions we might ask are: \n",
    "1. What were the fastest and slowest growing population centers in the US? (done)\n",
    "2. How does population density one census affect the rate of population growth the next decade, if at all? (done)\n",
    "3. To what extent do regions mirror one another in population growth, as opposed to diverging from one another? \n",
    "4. What are the best and worse states in terms of people per representative? (done)\n",
    "5. What is the spread of people per representative across states, and how has this changed over time? (done)\n",
    "6. Fraction of representatives should correlate with fraction of population, right? (WIP)\n",
    "\n",
    "Pop_change notes: \n",
    "CHANGE EXPRESSED AS PERCENTAGE (0-100).\n",
    "\n",
    "Pop_density notes: \n",
    "DENSITY EXPRESSED AS PEOPLE PER SQUARE MILE.\n",
    "DENSITY RANKING EXPRESSED IN ORDER OF MOST DENSE (1) TO LEAST DENSE (52).\n",
    "\n",
    "Interesting observations: \n",
    "1. DC was the most dense from every census through 1910\n",
    "2. The number of house seats was 433 in 1910, 1920, and then 435 from 1930 onwards. \n",
    "3. The worst-represented places aren't big states, but small ones like Rhode Island"
   ]
  },
  {
   "cell_type": "markdown",
   "metadata": {},
   "source": [
    "## Setting Up\n",
    "\n",
    "I'm going to import and clean up the data here."
   ]
  },
  {
   "cell_type": "code",
   "execution_count": 103,
   "metadata": {
    "collapsed": false,
    "deletable": true,
    "editable": true
   },
   "outputs": [
    {
     "name": "stderr",
     "output_type": "stream",
     "text": [
      "/Users/akhiljalan/anaconda/lib/python3.6/site-packages/pandas/core/generic.py:5006: RuntimeWarning: '<' not supported between instances of 'str' and 'float', sort order is undefined for incomparable objects\n",
      "  return_indexers=True)\n"
     ]
    }
   ],
   "source": [
    "import pandas as pd\n",
    "import numpy as np\n",
    "import math\n",
    "\n",
    "'''The population of each state at each decade, as well as the change from previous decade. \n",
    "X_POPULATION and X_CHANGE are the column names (X referring to a year ending with 10). \n",
    "There are these data for United States, Northeast, Midwest, South, West, \n",
    "Puerto Rico, and each individual state'''\n",
    "pop_change_df = pd.read_csv('data/pop_change.csv', index_col=0, header=0, thousands=',')\n",
    "pop_change_df.apply(pd.to_numeric)\n",
    "\n",
    "'''The population density of each state. X_POPULATION, X_DENSITY, X_RANK are the keys'''\n",
    "pop_density_df = pd.read_csv('data/pop_density.csv', index_col=0, header=0, skiprows=3, thousands=',')\n",
    "pop_density_df.apply(pd.to_numeric)\n",
    "\n",
    "\n",
    "'''The apportionment of representatives to the House by state. Keys include X_REPS,\n",
    "X_PEOPLE_PER_REP, X_'''\n",
    "apportionment_df = pd.read_csv('data/apportionment.csv', index_col=0, header=0, skiprows=1)\n",
    "apportionment_df.apply(pd.to_numeric)\n",
    "fix_nan_short = lambda num_or_nan: 0 if math.isnan(num_or_nan) else num_or_nan\n",
    "apportionment_df = apportionment_df.applymap(fix_nan_short)\n",
    "\n",
    "'''For some reason, 1920 people per rep is a column of zeroes. We can fix that here by just calculating it.'''\n",
    "apportionment_df['1920_PEOPLE_PER_REP'] = pop_change_df['1920_POPULATION']/apportionment_df['1920_REPS']\n",
    "fix_inf = lambda num_or_inf: math.nan if math.isinf(num_or_inf) else num_or_inf #this definitely works \n",
    "apportionment_df['1920_PEOPLE_PER_REP'] = apportionment_df['1920_PEOPLE_PER_REP'].apply(fix_inf)\n",
    "\n",
    "'''The dataframes, but only with states.'''\n",
    "states_pop_change = pop_change_df.iloc[range(5, len(pop_change_df))]\n",
    "states_pop_density = pop_density_df.iloc[range(1, len(pop_density_df))]"
   ]
  },
  {
   "cell_type": "code",
   "execution_count": 65,
   "metadata": {
    "collapsed": false,
    "deletable": true,
    "editable": true
   },
   "outputs": [],
   "source": [
    "#Answering 1: What were the fastest and slowest growing population centers in the US? \n",
    "\n",
    "'''Returns the NUMBER slowest or fastest growing states by population in YEAR.\n",
    "TOP is a Boolean. If TOP, we want the NUMBER fastest growing states. If not TOP, \n",
    "we want the NUMBER slowest growing states'''\n",
    "def n_max(year, number, top): \n",
    "    key = str(year) + '_CHANGE'\n",
    "    if top: \n",
    "        return states_pop_change[key].nlargest(n=number)\n",
    "    else: \n",
    "        return states_pop_change[key].nsmallest(n=number)\n",
    "\n",
    "five_fastest_growing_2010 = n_max(2010, 5, True)\n",
    "five_slowest_growing_2010 = n_max(2010, 5, False)"
   ]
  },
  {
   "cell_type": "markdown",
   "metadata": {
    "deletable": true,
    "editable": true
   },
   "source": [
    "## Does population density affect growth in states?\n",
    "\n",
    "Does population density affect the rate of population growth in a state? That is, if a state \n",
    "\n",
    "Both directions could be plausible. People might flock to a state if it is growing quickly and is the place to be. Or, they might choose to go to less populated states, which might have cheaper and more abundant land, and more opportunities. "
   ]
  },
  {
   "cell_type": "code",
   "execution_count": 66,
   "metadata": {
    "collapsed": false,
    "deletable": true,
    "editable": true
   },
   "outputs": [
    {
     "name": "stdout",
     "output_type": "stream",
     "text": [
      "[0.16759764250300993, -0.033015074352785424, 0.42880048186971909, 0.028952055112537411, -0.18073037791760463, -0.15831595591159223, -0.34969210174663073, -0.19039483919421596, -0.28296925289714092, -0.16320851336858472]\n"
     ]
    }
   ],
   "source": [
    "#Answering 2: How does population density one census affect the rate of population growth the next decade, if at all?\n",
    "\n",
    "def corr_density_growth(initial_year): \n",
    "    density_key = str(initial_year) + '_DENSITY'\n",
    "    growth_key = str(initial_year + 10) + '_CHANGE'\n",
    "    return pop_density_df[density_key].corr(pop_change_df[growth_key], method='pearson')\n",
    "\n",
    "correlations = [corr_density_growth(1910 + (x * 10)) for x in range(10)]\n",
    "print(correlations)"
   ]
  },
  {
   "cell_type": "markdown",
   "metadata": {
    "deletable": true,
    "editable": true
   },
   "source": [
    "It seems that population density of a state in one census is negatively correlated with its population growth in the next decade. However, these correlations are fairly weak. Interestingly, the decade 1930-1940 is a strong exception - in this decade, the two were positively correlated. I would conjecture this has to do with the Great Depression, during which there was a great migration westward in search of jobs (if my faint memory of history class is correct). States in the west were "
   ]
  },
  {
   "cell_type": "markdown",
   "metadata": {
    "collapsed": true,
    "deletable": true,
    "editable": true
   },
   "source": [
    "## Regional correlation in population growth\n",
    "3. To what extent do regions mirror one another in population growth, as opposed to diverging from one another?"
   ]
  },
  {
   "cell_type": "code",
   "execution_count": 67,
   "metadata": {
    "collapsed": true
   },
   "outputs": [],
   "source": [
    "#First question is, how to define a region? "
   ]
  },
  {
   "cell_type": "markdown",
   "metadata": {},
   "source": [
    "## Number of representatives per person\n",
    "4. What are the best and worse states in terms of people per representative? "
   ]
  },
  {
   "cell_type": "code",
   "execution_count": 83,
   "metadata": {
    "collapsed": false
   },
   "outputs": [
    {
     "data": {
      "text/plain": [
       "dict_values([207599.0, 236809.875, 279447.5, 299770.5, 340023.0, 409902.5, 469647.5, 517160.0, 570807.0, 644637.0, 712400.5])"
      ]
     },
     "execution_count": 83,
     "metadata": {},
     "output_type": "execute_result"
    }
   ],
   "source": [
    "people_per_rep_2010 = apportionment_df['2010_PEOPLE_PER_REP']\n",
    "pop_2010 = pop_density_df['2010_POPULATION']\n",
    "#interesting. it seems like the states with shittiest representation are not the biggest but in fact the smallest\n",
    "\n",
    "corr_popsize_people_per_rep = (pop_2010.corr(people_per_rep_2010, method='pearson'))\n",
    "\n",
    "mean_people_per_rep = {}\n",
    "std_people_per_rep = {}\n",
    "median_people_per_rep = {}\n",
    "for x in range(11): \n",
    "    year = 1910 + (x * 10)\n",
    "    mean_people_per_rep[year] = apportionment_df[str(year) + '_PEOPLE_PER_REP'].mean() \n",
    "    std_people_per_rep[year] = apportionment_df[str(year) + '_PEOPLE_PER_REP'].std()\n",
    "    median_people_per_rep[year] = apportionment_df[str(year) + '_PEOPLE_PER_REP'].median()\n",
    "\n",
    "median_people_per_rep.values()\n",
    "#std_people_per_rep.values()\n",
    "#so population has no correlation whatsoever with people per representative. \n",
    "#TODO: Data visualization here. X-axis can be size of population, and y-axis people per rep \n",
    "#TODO: Find out state trends in dilution of people per rep. "
   ]
  },
  {
   "cell_type": "markdown",
   "metadata": {},
   "source": [
    "## Apportionment\n",
    "\n",
    "We have __ interesting findings:\n",
    "\n",
    "First, the lopsided-ness of representation by state is at a historical peak. That is, the standard deviation in people per representative by states is at its peak in 2010. \n",
    "\n",
    "Second, as of 2010, there's no correlation whatsoever between population size and people per representative. This violates my initial intuition that big states have the worst ratio of representatives to population. In fact, the smallest states have it the worst. \n",
    "\n",
    "Some not so surprising trends are that: \n",
    "\n",
    "First, representation is getting diluted decade after decade as the population grows but the number of representatives has remained fixed. Mean and median representatives per person show a clear trend of growing per decade. \n",
    "\n"
   ]
  },
  {
   "cell_type": "markdown",
   "metadata": {},
   "source": [
    "## Fraction of population vs people per rep"
   ]
  },
  {
   "cell_type": "code",
   "execution_count": 102,
   "metadata": {
    "collapsed": false
   },
   "outputs": [],
   "source": [
    "'''This is buggy af. Logically the correlation should be close to if not exactly one. I initially intended\n",
    "for this to just be a sanity check but now it appears I am in fact going insane.'''\n",
    "def corr_popfraction_repdensity(year): \n",
    "    fraction_of_pop = pop_change_df[str(year) + '_POPULATION']\n",
    "    fraction_of_pop = fraction_of_pop/(fraction_of_pop['United States'])\n",
    "    rep_key = str(year) + '_REPS'\n",
    "    rep_density = apportionment_df[rep_key]/(apportionment_df[rep_key].sum())\n",
    "    return apportionment_df[rep_key].corr(fraction_of_pop, method='pearson')\n",
    "\n"
   ]
  },
  {
   "cell_type": "code",
   "execution_count": null,
   "metadata": {
    "collapsed": true
   },
   "outputs": [],
   "source": []
  }
 ],
 "metadata": {
  "kernelspec": {
   "display_name": "Python [conda root]",
   "language": "python",
   "name": "conda-root-py"
  },
  "language_info": {
   "codemirror_mode": {
    "name": "ipython",
    "version": 3
   },
   "file_extension": ".py",
   "mimetype": "text/x-python",
   "name": "python",
   "nbconvert_exporter": "python",
   "pygments_lexer": "ipython3",
   "version": "3.6.0"
  }
 },
 "nbformat": 4,
 "nbformat_minor": 2
}
