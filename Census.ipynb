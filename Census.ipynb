{
 "cells": [
  {
   "cell_type": "markdown",
   "metadata": {
    "deletable": true,
    "editable": true
   },
   "source": [
    "Some questions we might ask are: \n",
    "1. What were the fastest and slowest growing population centers in the US? (done)\n",
    "2. How does population density one census affect the rate of population growth the next decade, if at all? (done)\n",
    "3. To what extent do regions mirror one another in population growth, as opposed to diverging from one another? \n",
    "4. What are the best and worse states in terms of people per representative? (done)\n",
    "5. What is the spread of people per representative across states, and how has this changed over time? (done)\n",
    "6. Fraction of representatives should correlate with fraction of population, right? (done) -- yes\n",
    "\n",
    "Pop_change notes: \n",
    "CHANGE EXPRESSED AS PERCENTAGE (0-100).\n",
    "\n",
    "Pop_density notes: \n",
    "DENSITY EXPRESSED AS PEOPLE PER SQUARE MILE.\n",
    "DENSITY RANKING EXPRESSED IN ORDER OF MOST DENSE (1) TO LEAST DENSE (52).\n",
    "\n",
    "Interesting observations: \n",
    "1. DC was the most dense from every census through 1910\n",
    "2. The number of house seats was 433 in 1910, 1920, and then 435 from 1930 onwards. \n",
    "3. The worst-represented places aren't big states, but small ones like Rhode Island"
   ]
  },
  {
   "cell_type": "markdown",
   "metadata": {
    "deletable": true,
    "editable": true
   },
   "source": [
    "## Setting Up\n",
    "\n",
    "I'm going to import and clean up the data here."
   ]
  },
  {
   "cell_type": "code",
   "execution_count": 46,
   "metadata": {
    "collapsed": false,
    "deletable": true,
    "editable": true
   },
   "outputs": [],
   "source": [
    "import pandas as pd\n",
    "import numpy as np\n",
    "import math\n",
    "import seaborn as sns\n",
    "% matplotlib inline\n",
    "import matplotlib.pyplot as plt \n",
    "\n",
    "'''The population of each state at each decade, as well as the change from previous decade. \n",
    "X_POPULATION and X_CHANGE are the column names (X referring to a year ending with 10). \n",
    "There are these data for United States, Northeast, Midwest, South, West, \n",
    "Puerto Rico, and each individual state'''\n",
    "pop_change_df = pd.read_csv('data/pop_change.csv', index_col=0, header=0, thousands=',')\n",
    "pop_change_df.apply(pd.to_numeric)\n",
    "\n",
    "'''The population density of each state. X_POPULATION, X_DENSITY, X_RANK are the keys'''\n",
    "pop_density_df = pd.read_csv('data/pop_density.csv', index_col=0, header=0, skiprows=3, thousands=',')\n",
    "pop_density_df.apply(pd.to_numeric)\n",
    "\n",
    "\n",
    "'''The apportionment of representatives to the House by state. Keys include X_REPS,\n",
    "X_PEOPLE_PER_REP, X_'''\n",
    "apportionment_df = pd.read_csv('data/apportionment.csv', index_col=0, header=0, skiprows=1)\n",
    "apportionment_df.apply(pd.to_numeric)\n",
    "fix_nan_short = lambda num_or_nan: 0 if math.isnan(num_or_nan) else num_or_nan\n",
    "apportionment_df = apportionment_df.applymap(fix_nan_short)\n",
    "\n",
    "'''For some reason, 1920 people per rep is a column of zeroes. We can fix that here by just calculating it.'''\n",
    "apportionment_df['1920_PEOPLE_PER_REP'] = pop_change_df['1920_POPULATION']/apportionment_df['1920_REPS']\n",
    "fix_inf = lambda num_or_inf: math.nan if math.isinf(num_or_inf) else num_or_inf #this definitely works \n",
    "apportionment_df['1920_PEOPLE_PER_REP'] = apportionment_df['1920_PEOPLE_PER_REP'].apply(fix_inf)\n",
    "\n",
    "'''The dataframes, but only with states.'''\n",
    "states_pop_change = pop_change_df.iloc[range(5, len(pop_change_df))]\n",
    "states_pop_density = pop_density_df.iloc[range(1, len(pop_density_df))]\n",
    "state_apportionment = apportionment_df.iloc[range(1, len(apportionment_df))]\n",
    "\n",
    "'''Takes in a function which itself reads an integer value of a valid year ending in 10. \n",
    "Valid years are 1910, 1920, ..., 2010. Returns a dictionary whose keys are years and \n",
    "values are func(year) for those years all of these years.'''\n",
    "def values_for_all_years(func): \n",
    "    return_dict = {}\n",
    "    for i in range(11): \n",
    "        return_dict[1910 + (10 * i)] = func(1910 + (10 * i))\n",
    "    return return_dict"
   ]
  },
  {
   "cell_type": "code",
   "execution_count": 47,
   "metadata": {
    "collapsed": false,
    "deletable": true,
    "editable": true
   },
   "outputs": [],
   "source": [
    "#Answering 1: What were the fastest and slowest growing population centers in the US? \n",
    "\n",
    "'''Returns the NUMBER slowest or fastest growing states by population in YEAR.\n",
    "FAST is a Boolean. If FAST, we want the NUMBER fastest growing states. If not FAST, \n",
    "we want the NUMBER slowest growing states'''\n",
    "def n_max(year, number, fast): \n",
    "    key = str(year) + '_CHANGE'\n",
    "    if fast: \n",
    "        return states_pop_change[key].nlargest(n=number)\n",
    "    else: \n",
    "        return states_pop_change[key].nsmallest(n=number)\n",
    "\n",
    "five_fastest_growing_2010 = n_max(2010, 5, True)\n",
    "five_slowest_growing_2010 = n_max(2010, 5, False)"
   ]
  },
  {
   "cell_type": "markdown",
   "metadata": {
    "deletable": true,
    "editable": true
   },
   "source": [
    "## Does population density affect growth in states?\n",
    "\n",
    "Does population density affect the rate of population growth in a state? That is, if a state \n",
    "\n",
    "Both directions could be plausible. People might flock to a state if it is growing quickly and is the place to be. Or, they might choose to go to less populated states, which might have cheaper and more abundant land, and more opportunities. "
   ]
  },
  {
   "cell_type": "code",
   "execution_count": 48,
   "metadata": {
    "collapsed": false,
    "deletable": true,
    "editable": true
   },
   "outputs": [
    {
     "data": {
      "image/png": "[encoded data removed]",
      "text/plain": [
       "<matplotlib.figure.Figure at 0x119ef77f0>"
      ]
     },
     "metadata": {},
     "output_type": "display_data"
    }
   ],
   "source": [
    "#Answering 2: How does population density one census affect the rate of population growth the next decade, if at all?\n",
    "\n",
    "\n",
    "def corr_density_growth(initial_year): \n",
    "    density_key = str(initial_year) + '_DENSITY'\n",
    "    growth_key = str(initial_year + 10) + '_CHANGE'\n",
    "    corr = states_pop_density[density_key].corr(states_pop_change[growth_key], method='pearson')\n",
    "    plt.scatter(initial_year + 10, corr)\n",
    "    return corr\n",
    "plt.title('Correlation of State Population Density to Population Growth')\n",
    "density_growth_correlations = [corr_density_growth(1910 + (x * 10)) for x in range(10)]"
   ]
  },
  {
   "cell_type": "code",
   "execution_count": 49,
   "metadata": {
    "collapsed": false
   },
   "outputs": [
    {
     "data": {
      "image/png": "[encoded data removed]",
      "text/plain": [
       "<matplotlib.figure.Figure at 0x119a02240>"
      ]
     },
     "metadata": {},
     "output_type": "display_data"
    }
   ],
   "source": [
    "def corr_size_growth(initial_year): \n",
    "    size_key = str(initial_year) + '_POPULATION'\n",
    "    growth_key = str(initial_year + 10) + '_CHANGE'\n",
    "    corr = states_pop_change[size_key].corr(states_pop_change[growth_key], method='pearson')\n",
    "    plt.scatter(initial_year + 10, corr)\n",
    "    return corr\n",
    "\n",
    "plt.title('Correlation of State Population Size to Population Growth')\n",
    "size_growth_correlations = [corr_size_growth(1910 + (x * 10)) for x in range(10)]\n"
   ]
  },
  {
   "cell_type": "markdown",
   "metadata": {
    "deletable": true,
    "editable": true
   },
   "source": [
    "It seems that population density of a state in one census is negatively correlated with its population growth in the next decade. However, these correlations are fairly weak. Interestingly, the decade 1930-1940 is a strong exception - in this decade, the two were positively correlated. I would conjecture this has to do with the Great Depression, during which there was a great migration westward in search of jobs (if my faint memory of history class is correct). States in the west were "
   ]
  },
  {
   "cell_type": "markdown",
   "metadata": {
    "deletable": true,
    "editable": true
   },
   "source": [
    "## Number of representatives per person\n",
    "4. What are the best and worse states in terms of people per representative? "
   ]
  },
  {
   "cell_type": "code",
   "execution_count": 53,
   "metadata": {
    "collapsed": false,
    "deletable": true,
    "editable": true
   },
   "outputs": [
    {
     "data": {
      "text/plain": [
       "<matplotlib.text.Text at 0x119dd5f28>"
      ]
     },
     "execution_count": 53,
     "metadata": {},
     "output_type": "execute_result"
    },
    {
     "data": {
      "image/png": "[encoded data removed]",
      "text/plain": [
       "<matplotlib.figure.Figure at 0x1196cf550>"
      ]
     },
     "metadata": {},
     "output_type": "display_data"
    }
   ],
   "source": [
    "people_per_rep_2010 = apportionment_df['2010_PEOPLE_PER_REP']\n",
    "pop_2010 = pop_density_df['2010_POPULATION']\n",
    "#interesting. it seems like the states with shittiest representation are not the biggest but in fact the smallest\n",
    "\n",
    "corr_popsize_people_per_rep = (pop_2010.corr(people_per_rep_2010, method='pearson'))\n",
    "\n",
    "mean_people_per_rep = values_for_all_years(lambda year: state_apportionment[str(year) + '_PEOPLE_PER_REP'].mean())\n",
    "std_people_per_rep = values_for_all_years(lambda year: state_apportionment[str(year) + '_PEOPLE_PER_REP'].std())\n",
    "median_people_per_rep = values_for_all_years(lambda year: state_apportionment[str(year) + '_PEOPLE_PER_REP'].median())\n",
    "\n",
    "for year in mean_people_per_rep.keys(): \n",
    "    plt.scatter(year, mean_people_per_rep[year], color='blue') #mean is blue\n",
    "    plt.scatter(year, median_people_per_rep[year], color='red') #median is red \n",
    "plt.title('Growth of people per representative over the 20th century')\n",
    "#so population has no correlation whatsoever with people per representative. \n",
    "#TODO: Data visualization here. X-axis can be size of population, and y-axis people per rep \n",
    "#TODO: Find out state trends in dilution of people per rep. "
   ]
  },
  {
   "cell_type": "markdown",
   "metadata": {
    "deletable": true,
    "editable": true
   },
   "source": [
    "## Apportionment\n",
    "\n",
    "We have __ interesting findings:\n",
    "\n",
    "First, the lopsided-ness of representation by state is at a historical peak. That is, the standard deviation in people per representative by states is at its peak in 2010. \n",
    "\n",
    "Second, as of 2010, there's no correlation whatsoever between population size and people per representative. This violates my initial intuition that big states have the worst ratio of representatives to population. In fact, the smallest states have it the worst. \n",
    "\n",
    "Some not so surprising trends are that: \n",
    "\n",
    "First, representation is getting diluted decade after decade as the population grows but the number of representatives has remained fixed. Mean and median representatives per person show a clear trend of growing per decade. \n",
    "\n"
   ]
  },
  {
   "cell_type": "markdown",
   "metadata": {
    "deletable": true,
    "editable": true
   },
   "source": [
    "## Fraction of population vs people per rep\n",
    "\n",
    "Is it the case that the fraction of total population corresponds to the fraction of representatives you have in the House? Of course it does. This is a sanity check."
   ]
  },
  {
   "cell_type": "code",
   "execution_count": null,
   "metadata": {
    "collapsed": false,
    "deletable": true,
    "editable": true
   },
   "outputs": [],
   "source": [
    "'''This is buggy af. Logically the correlation should be close to if not exactly one. I initially intended\n",
    "for this to just be a sanity check but now it appears I am in fact going insane.'''\n",
    "\n",
    "\n",
    "#1. The total numbers of representatives are in fact correct. \n",
    "#2. If a state was not yet a state, its number of reps is zero. So, I can change these to NaNs and I don't think\n",
    "#they'll get evaluated by the correlation function\n",
    "#3. The population columns in pop_change_df include US and various regions. What we want is states pop change\n",
    "\n",
    "\n",
    "#yes! this works!!! \n",
    "\n",
    "\n",
    "def corr_popfraction_repdensity(year): \n",
    "    zero_to_nan = lambda num: math.nan if (num == 0.0) else num \n",
    "    reps_with_nans = apportionment_df[str(year) + '_REPS'].apply(zero_to_nan)\n",
    "    return states_pop_change[str(year) + '_POPULATION'].corr(reps_with_nans, method='pearson')\n",
    "\n",
    "corr_values = values_for_all_years(corr_popfraction_repdensity)\n",
    "print(corr_values)"
   ]
  },
  {
   "cell_type": "code",
   "execution_count": null,
   "metadata": {
    "collapsed": true,
    "deletable": true,
    "editable": true
   },
   "outputs": [],
   "source": []
  }
 ],
 "metadata": {
  "kernelspec": {
   "display_name": "Python [conda root]",
   "language": "python",
   "name": "conda-root-py"
  },
  "language_info": {
   "codemirror_mode": {
    "name": "ipython",
    "version": 3
   },
   "file_extension": ".py",
   "mimetype": "text/x-python",
   "name": "python",
   "nbconvert_exporter": "python",
   "pygments_lexer": "ipython3",
   "version": "3.6.0"
  }
 },
 "nbformat": 4,
 "nbformat_minor": 2
}
